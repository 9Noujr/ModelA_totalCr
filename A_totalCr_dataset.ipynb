{
  "nbformat": 4,
  "nbformat_minor": 0,
  "metadata": {
    "colab": {
      "provenance": []
    },
    "kernelspec": {
      "name": "python3",
      "display_name": "Python 3"
    },
    "language_info": {
      "name": "python"
    }
  },
  "cells": [
    {
      "cell_type": "code",
      "execution_count": null,
      "metadata": {
        "id": "D-ewtr5YzpX4"
      },
      "outputs": [],
      "source": [
        "import pandas as pd\n",
        "import numpy as np\n",
        "from sklearn.model_selection import train_test_split\n",
        "from sklearn.metrics import mean_squared_error\n",
        "from imblearn.over_sampling import RandomOverSampler\n",
        "from imblearn.over_sampling import SMOTE\n",
        "from statsmodels.nonparametric.smoothers_lowess import lowess\n",
        "from sklearn.utils import resample\n",
        "from sklearn.ensemble import RandomForestRegressor\n",
        "from sklearn.metrics import mean_absolute_error\n",
        "from sklearn.metrics import r2_score\n",
        "from sklearn.metrics import mean_absolute_percentage_error\n",
        "import matplotlib.pyplot as plt\n",
        "from sklearn.model_selection import RandomizedSearchCV"
      ]
    },
    {
      "cell_type": "code",
      "source": [
        "from google.colab import drive\n",
        "drive.mount('/content/drive')\n",
        "exp_raw_data = '/content/drive/MyDrive/MODELLING/Dataset_modelA.xlsx'\n",
        "collab_data = pd.read_excel(exp_raw_data)"
      ],
      "metadata": {
        "id": "r7U556N00Btp",
        "colab": {
          "base_uri": "https://localhost:8080/"
        },
        "outputId": "c2ed92b3-31e8-40b6-82f8-b6cfd991f4a4"
      },
      "execution_count": null,
      "outputs": [
        {
          "output_type": "stream",
          "name": "stdout",
          "text": [
            "Mounted at /content/drive\n"
          ]
        }
      ]
    },
    {
      "cell_type": "code",
      "source": [
        "collab_data.corr().abs()['totalCr_concentration']"
      ],
      "metadata": {
        "id": "gs048srJz6Bt",
        "colab": {
          "base_uri": "https://localhost:8080/"
        },
        "outputId": "338a39de-1c45-4e13-8f82-7dfab6660ad9"
      },
      "execution_count": null,
      "outputs": [
        {
          "output_type": "execute_result",
          "data": {
            "text/plain": [
              "ID                       0.083153\n",
              "trail_ID                 0.022367\n",
              "initial_concentration    0.626169\n",
              "adsorbent_mass           0.144065\n",
              "flow_rate                0.030476\n",
              "Ph                       0.422998\n",
              "volume                   0.433627\n",
              "CrVI_concentration       0.956401\n",
              "totalCr_concentration    1.000000\n",
              "Name: totalCr_concentration, dtype: float64"
            ]
          },
          "metadata": {},
          "execution_count": 3
        }
      ]
    },
    {
      "cell_type": "code",
      "source": [
        "def remove_outliers_iqr(df, column, k=1.5):\n",
        "    Q1 = df[column].quantile(0.25)\n",
        "    Q3 = df[column].quantile(0.75)\n",
        "    IQR = Q3 - Q1\n",
        "    lower_bound = Q1 - k * IQR\n",
        "    upper_bound = Q3 + k * IQR\n",
        "    outliers_removed = df[(df[column] >= lower_bound) & (df[column] <= upper_bound)]\n",
        "    outliers = df[(df[column] < lower_bound) | (df[column] > upper_bound)]\n",
        "    return outliers_removed, outliers\n",
        "\n",
        "columns_for_outlier_removal = ['totalCr_concentration','initial_concentration','volume','Ph']\n",
        "\n",
        "outliers_removed_data = collab_data.copy()\n",
        "outliers_data = pd.DataFrame(columns=collab_data.columns)\n",
        "\n",
        "for column in columns_for_outlier_removal:\n",
        "    outliers_removed_data, outliers = remove_outliers_iqr(outliers_removed_data, column)\n",
        "    outliers_data = pd.concat([outliers_data, outliers])\n",
        "\n",
        "print('Outliers list length', len(outliers_data))\n",
        "print('Corrected dataset length', len(outliers_removed_data))"
      ],
      "metadata": {
        "id": "xBv1zCs11t6Z",
        "colab": {
          "base_uri": "https://localhost:8080/"
        },
        "outputId": "d70fb778-f832-4242-93f8-2f98c5f0da28"
      },
      "execution_count": null,
      "outputs": [
        {
          "output_type": "stream",
          "name": "stdout",
          "text": [
            "Outliers list length 32\n",
            "Corrected dataset length 222\n"
          ]
        }
      ]
    },
    {
      "cell_type": "code",
      "source": [
        "y = outliers_removed_data['totalCr_concentration']\n",
        "features = ['initial_concentration','adsorbent_mass','flow_rate','Ph','volume']\n",
        "X = outliers_removed_data[features]\n",
        "\n",
        "X_testing, X_train, y_testing, y_train = train_test_split(X, y, test_size=0.7, random_state=27)\n",
        "X_val, X_test, y_val, y_test = train_test_split(X_testing, y_testing, test_size=0.5, random_state=27)\n",
        "print(\"Training set size\", len(X_train))\n",
        "print(\"Validation set size\", len(X_val))\n",
        "print(\"Training set size\", len(X_test))\n",
        "drive_path1 = '/content/drive/My Drive/MODELLING/X_testA_2.csv'\n",
        "X_test.to_csv(drive_path1, index=False)\n",
        "drive_path2 = '/content/drive/My Drive/MODELLING/y_testA_2.csv'\n",
        "y_test.to_csv(drive_path2, index=False)\n"
      ],
      "metadata": {
        "id": "UiPJ5PBM14bP",
        "colab": {
          "base_uri": "https://localhost:8080/"
        },
        "outputId": "8a7c40ce-05a3-4249-ea50-fcdf2187fb55"
      },
      "execution_count": null,
      "outputs": [
        {
          "output_type": "stream",
          "name": "stdout",
          "text": [
            "Training set size 156\n",
            "Validation set size 33\n",
            "Training set size 33\n"
          ]
        }
      ]
    },
    {
      "cell_type": "code",
      "source": [
        "outliers_removed_data.corr().abs()['totalCr_concentration']"
      ],
      "metadata": {
        "id": "bCPh3Aa5GzP0"
      },
      "execution_count": null,
      "outputs": []
    },
    {
      "cell_type": "code",
      "source": [
        "outliers_removed_data['initial_concentration'].plot(kind='kde')\n",
        "outliers_removed_data['initial_concentration'].plot(kind='hist', density = True)"
      ],
      "metadata": {
        "id": "YnxoYH252PaK"
      },
      "execution_count": null,
      "outputs": []
    },
    {
      "cell_type": "code",
      "source": [
        "outliers_removed_data['adsorbent_mass'].plot(kind='kde')\n",
        "outliers_removed_data['adsorbent_mass'].plot(kind='hist', density = True)"
      ],
      "metadata": {
        "id": "02hOYnEP2YcL"
      },
      "execution_count": null,
      "outputs": []
    },
    {
      "cell_type": "code",
      "source": [
        "outliers_removed_data['flow_rate'].plot(kind='kde')\n",
        "outliers_removed_data['flow_rate'].plot(kind='hist', density = True)"
      ],
      "metadata": {
        "id": "WI30U_CR2bKP"
      },
      "execution_count": null,
      "outputs": []
    },
    {
      "cell_type": "code",
      "source": [
        "hist = outliers_removed_data['totalCr_concentration'].plot(kind='hist', density = True, bins=5)"
      ],
      "metadata": {
        "id": "A7xqGYSp2kyS",
        "colab": {
          "base_uri": "https://localhost:8080/",
          "height": 430
        },
        "outputId": "527f86f5-2428-4f99-8db6-ed5104e353f4"
      },
      "execution_count": null,
      "outputs": [
        {
          "output_type": "display_data",
          "data": {
            "text/plain": [
              "<Figure size 640x480 with 1 Axes>"
            ],
            "image/png": "[encoded data removed]"
          },
          "metadata": {}
        }
      ]
    },
    {
      "cell_type": "code",
      "source": [
        "train_data = pd.concat([X_train, y_train], axis=1)\n",
        "\n",
        "majority_class_train = train_data[train_data['totalCr_concentration'] <= 12.5]\n",
        "minority_class_train = train_data[train_data['totalCr_concentration'] > 12.5]\n",
        "\n",
        "downsampled_majority_train = resample(majority_class_train,\n",
        "                                      replace=False,\n",
        "                                      n_samples=len(minority_class_train),\n",
        "                                      random_state=27)\n",
        "\n",
        "balanced_train_data = pd.concat([downsampled_majority_train, minority_class_train])\n",
        "\n",
        "X_train_balanced = balanced_train_data[features]\n",
        "y_train_balanced = balanced_train_data['totalCr_concentration']\n",
        "\n",
        "print(\"Majority class size:\", len(majority_class_train))\n",
        "print(\"Minority class size:\", len(minority_class_train))\n",
        "print(\"Original training dataset size:\", len(X_train))\n",
        "print(\"Balanced training dataset size:\", len(X_train_balanced))"
      ],
      "metadata": {
        "id": "4ymCYbmW2v-U",
        "colab": {
          "base_uri": "https://localhost:8080/"
        },
        "outputId": "330bb17a-4ef4-4042-e331-0919f02e9e70"
      },
      "execution_count": null,
      "outputs": [
        {
          "output_type": "stream",
          "name": "stdout",
          "text": [
            "Majority class size: 85\n",
            "Minority class size: 71\n",
            "Original training dataset size: 156\n",
            "Balanced training dataset size: 142\n"
          ]
        }
      ]
    },
    {
      "cell_type": "code",
      "source": [
        "rf_trail1 = RandomForestRegressor(random_state=27)\n",
        "rf_trail1.fit(X_train_balanced, y_train_balanced)\n",
        "\n",
        "rf_trail1_prediction_train = rf_trail1.predict (X_train_balanced)\n",
        "\n",
        "rf_trail1_mae_TRAIN = mean_absolute_error(rf_trail1_prediction_train, y_train_balanced)\n",
        "rf_trail1_mape_TRAIN = mean_absolute_percentage_error(rf_trail1_prediction_train, y_train_balanced)\n",
        "rf_trail1_linearity_TRAIN = r2_score(rf_trail1_prediction_train, y_train_balanced)\n",
        "\n",
        "print('rf_trail1_mae_TRAIN =', rf_trail1_mae_TRAIN)\n",
        "print('rf_trail1_mape_TRAIN =', rf_trail1_mape_TRAIN)\n",
        "print('rf_trail1_linearity_TRAIN =', rf_trail1_linearity_TRAIN)\n",
        "\n",
        "plt.figure(figsize=(10, 6))\n",
        "plt.scatter(y_train_balanced, rf_trail1_prediction_train, color='blue', label='Predicted vs Actual')\n",
        "plt.plot([min(y_train_balanced), max(y_train_balanced)], [min(y_train_balanced), max(y_train_balanced)], color='red', linestyle='--', label='Perfect Prediction Line')\n",
        "plt.title('Prediction vs Actual')\n",
        "plt.xlabel('Actual Values')\n",
        "plt.ylabel('Predicted Values')\n",
        "plt.legend()\n",
        "plt.show()"
      ],
      "metadata": {
        "id": "b7m54S8Z3Ciy"
      },
      "execution_count": null,
      "outputs": []
    },
    {
      "cell_type": "code",
      "source": [
        "rf_trail1_prediction = rf_trail1.predict (X_val)\n",
        "rf_trail1_mae = mean_absolute_error(rf_trail1_prediction, y_val)\n",
        "rf_trail1_mape = mean_absolute_percentage_error(rf_trail1_prediction, y_val)\n",
        "rf_trail1_linearity = r2_score(rf_trail1_prediction, y_val)\n",
        "\n",
        "print('rf_trail1_mae =', rf_trail1_mae)\n",
        "print('rf_trail1_mape =', rf_trail1_mape)\n",
        "print('rf_trail1_linearity =', rf_trail1_linearity)\n",
        "\n",
        "plt.figure(figsize=(10, 6))\n",
        "plt.scatter(y_val, rf_trail1_prediction, color='blue', label='Predicted vs Actual')\n",
        "plt.plot([min(y_val), max(y_val)], [min(y_val), max(y_val)], color='red', linestyle='--', label='Perfect Prediction Line')\n",
        "plt.title('Prediction vs Actual')\n",
        "plt.xlabel('Actual Values')\n",
        "plt.ylabel('Predicted Values')\n",
        "plt.legend()\n",
        "plt.show()"
      ],
      "metadata": {
        "id": "89Iupo3M8j8S"
      },
      "execution_count": null,
      "outputs": []
    },
    {
      "cell_type": "code",
      "source": [
        "feat_importance_model_rf_trail1 = pd.Series(rf_trail1.feature_importances_, index=X_train_balanced.columns)\n",
        "feat_importance_model_rf_trail1.nlargest(5).plot(kind='barh')"
      ],
      "metadata": {
        "id": "CFgQwMFz9IL2"
      },
      "execution_count": null,
      "outputs": []
    },
    {
      "cell_type": "markdown",
      "source": [
        "Hyperparameter optimization (random grid search)"
      ],
      "metadata": {
        "id": "upC4pMSB9ZDS"
      }
    },
    {
      "cell_type": "code",
      "source": [
        "from sklearn.metrics import r2_score\n",
        "from sklearn.metrics import make_scorer"
      ],
      "metadata": {
        "id": "Q5xunkhk9cLd"
      },
      "execution_count": null,
      "outputs": []
    },
    {
      "cell_type": "code",
      "source": [
        "n_estimators = [int(x) for x in np.linspace(start = 10, stop = 1000, num = 10)]\n",
        "max_features = [0,0.1,0.2,0.3,0.4,0.5,0.6,0.7,0.8,0.9,1]\n",
        "max_depth = [int(x) for x in np.linspace (10, 110, num = 11)]\n",
        "min_samples_leaf = [1,2,4]\n",
        "\n",
        "random_grid = {'n_estimators': n_estimators,\n",
        "               'max_features': max_features,\n",
        "               'max_depth': max_depth,\n",
        "               'min_samples_leaf': min_samples_leaf,\n",
        "               }"
      ],
      "metadata": {
        "id": "Y8lm8qGT9519"
      },
      "execution_count": null,
      "outputs": []
    },
    {
      "cell_type": "code",
      "source": [
        "def custom_score(y_true, y_pred):\n",
        "    return r2_score(y_true, y_pred)\n",
        "custom_scorer = make_scorer(custom_score)\n",
        "rf_trail2 = RandomForestRegressor()\n",
        "rf_trail2_random = RandomizedSearchCV(estimator=rf_trail2, param_distributions=random_grid,\n",
        "                              n_iter = 100, scoring=custom_scorer,\n",
        "                              cv = 5, verbose=2, random_state=35, n_jobs=-1,\n",
        "                              return_train_score=True)"
      ],
      "metadata": {
        "id": "5J59RM8299al"
      },
      "execution_count": null,
      "outputs": []
    },
    {
      "cell_type": "code",
      "source": [
        "rf_trail2_random.fit(X_train_balanced,y_train_balanced)\n",
        "rf_trail2_prediction = rf_trail2_random.predict (X_train_balanced)"
      ],
      "metadata": {
        "id": "lxGjhGo4-Bz2"
      },
      "execution_count": null,
      "outputs": []
    },
    {
      "cell_type": "code",
      "source": [
        "params = rf_trail1.get_params()\n",
        "print(\"Initial Parameters:\")\n",
        "for param_name, param_value in params.items():\n",
        "    print(f\"{param_name}: {param_value}\")\n",
        "print('Best Parameters found: ', rf_trail2_random.best_params_, ' \\n' )"
      ],
      "metadata": {
        "id": "1I-EUeyBBBgB"
      },
      "execution_count": null,
      "outputs": []
    },
    {
      "cell_type": "code",
      "source": [
        "rf_trail2_random_model = RandomForestRegressor(n_estimators = 120, min_samples_leaf = 1, max_features = 0.8, max_depth = 10, random_state = 27)\n",
        "rf_trail2_prediction_train = rf_trail2_random_model.fit(X_train_balanced, y_train_balanced)\n",
        "rf_trail2_prediction_train = rf_trail2_random_model.predict(X_train_balanced)\n",
        "\n",
        "rf_trail2_mae_TRAIN = mean_absolute_error(rf_trail2_prediction_train, y_train_balanced)\n",
        "rf_trail2_mape_TRAIN = mean_absolute_percentage_error(rf_trail2_prediction_train, y_train_balanced)\n",
        "rf_trail2_linearity_TRAIN = r2_score(rf_trail2_prediction_train, y_train_balanced)\n",
        "\n",
        "print('rf_trail2_mae_TRAIN =', rf_trail2_mae_TRAIN)\n",
        "print('rf_trail2_mape_TRAIN =', rf_trail2_mape_TRAIN)\n",
        "print('rf_trail2_linearity_TRAIN =', rf_trail2_linearity_TRAIN)\n",
        "\n",
        "plt.figure(figsize=(10, 6))\n",
        "plt.scatter(y_train_balanced, rf_trail2_prediction_train, color='blue', label='Predicted vs Actual')\n",
        "plt.plot([min(y_train_balanced), max(y_train_balanced)], [min(y_train_balanced), max(y_train_balanced)], color='red', linestyle='--', label='Perfect Prediction Line')\n",
        "plt.title('Prediction vs Actual')\n",
        "plt.xlabel('Actual Values')\n",
        "plt.ylabel('Predicted Values')\n",
        "plt.legend()\n",
        "plt.show()"
      ],
      "metadata": {
        "id": "0gPLPGOTBCBA"
      },
      "execution_count": null,
      "outputs": []
    },
    {
      "cell_type": "code",
      "source": [
        "rf_trail2_prediction = rf_trail2_random_model.predict (X_val)\n",
        "\n",
        "rf_trail2_mae = mean_absolute_error(rf_trail2_prediction, y_val)\n",
        "rf_trail2_mape = mean_absolute_percentage_error(rf_trail2_prediction, y_val)\n",
        "rf_trail2_linearity = r2_score(rf_trail2_prediction, y_val)\n",
        "\n",
        "print('rf_trail1_mae/rf_trail2_mae =', rf_trail1_mae, rf_trail2_mae)\n",
        "print('rf_trail1_mape/rf_trail2_mape =', rf_trail1_mape, rf_trail2_mape)\n",
        "print('rf_trail1_linearity/rf_trail2_linearity =', rf_trail1_linearity, rf_trail2_linearity)\n",
        "\n",
        "plt.figure(figsize=(10, 6))\n",
        "plt.scatter(y_val, rf_trail2_prediction, color='blue', label='Predicted vs Actual')\n",
        "plt.plot([min(y_val), max(y_val)], [min(y_val), max(y_val)], color='red', linestyle='--', label='Perfect Prediction Line')\n",
        "plt.title('Prediction vs Actual')\n",
        "plt.xlabel('Actual Values')\n",
        "plt.ylabel('Predicted Values')\n",
        "plt.legend()\n",
        "plt.show()"
      ],
      "metadata": {
        "id": "SGKW8sd8CR9w"
      },
      "execution_count": null,
      "outputs": []
    },
    {
      "cell_type": "markdown",
      "source": [
        "Hyperparameter optimization (bayesian optimization)"
      ],
      "metadata": {
        "id": "Aa0Db3EECwqD"
      }
    },
    {
      "cell_type": "code",
      "source": [
        "!pip install bayesian-optimization scikit-learn pandas\n",
        "from sklearn.model_selection import cross_val_score\n",
        "from sklearn.model_selection import cross_val_predict\n",
        "from bayes_opt import BayesianOptimization\n",
        "from scipy.stats import pearsonr"
      ],
      "metadata": {
        "id": "Qm7WHHDlC2TS",
        "colab": {
          "base_uri": "https://localhost:8080/"
        },
        "collapsed": true,
        "outputId": "eebeb3c2-2cfe-4693-81a5-102f8f043b7f"
      },
      "execution_count": null,
      "outputs": [
        {
          "output_type": "stream",
          "name": "stdout",
          "text": [
            "Collecting bayesian-optimization\n",
            "  Downloading bayesian_optimization-1.4.3-py3-none-any.whl (18 kB)\n",
            "Requirement already satisfied: scikit-learn in /usr/local/lib/python3.10/dist-packages (1.2.2)\n",
            "Requirement already satisfied: pandas in /usr/local/lib/python3.10/dist-packages (2.0.3)\n",
            "Requirement already satisfied: numpy>=1.9.0 in /usr/local/lib/python3.10/dist-packages (from bayesian-optimization) (1.25.2)\n",
            "Requirement already satisfied: scipy>=1.0.0 in /usr/local/lib/python3.10/dist-packages (from bayesian-optimization) (1.11.4)\n",
            "Collecting colorama>=0.4.6 (from bayesian-optimization)\n",
            "  Downloading colorama-0.4.6-py2.py3-none-any.whl (25 kB)\n",
            "Requirement already satisfied: joblib>=1.1.1 in /usr/local/lib/python3.10/dist-packages (from scikit-learn) (1.4.2)\n",
            "Requirement already satisfied: threadpoolctl>=2.0.0 in /usr/local/lib/python3.10/dist-packages (from scikit-learn) (3.5.0)\n",
            "Requirement already satisfied: python-dateutil>=2.8.2 in /usr/local/lib/python3.10/dist-packages (from pandas) (2.8.2)\n",
            "Requirement already satisfied: pytz>=2020.1 in /usr/local/lib/python3.10/dist-packages (from pandas) (2023.4)\n",
            "Requirement already satisfied: tzdata>=2022.1 in /usr/local/lib/python3.10/dist-packages (from pandas) (2024.1)\n",
            "Requirement already satisfied: six>=1.5 in /usr/local/lib/python3.10/dist-packages (from python-dateutil>=2.8.2->pandas) (1.16.0)\n",
            "Installing collected packages: colorama, bayesian-optimization\n",
            "Successfully installed bayesian-optimization-1.4.3 colorama-0.4.6\n"
          ]
        }
      ]
    },
    {
      "cell_type": "code",
      "source": [
        "def linearity_score(y_true, y_pred):\n",
        "       residuals = y_true - y_pred\n",
        "       corr_coef, _ = pearsonr(y_pred, residuals)\n",
        "       return np.abs(corr_coef)\n",
        "\n",
        "def objective(n_estimators, max_depth, min_samples_leaf, max_features):\n",
        "    rf_trail3= RandomForestRegressor(n_estimators=int(n_estimators),\n",
        "                                  max_depth=int(max_depth),\n",
        "                                  min_samples_leaf=int(min_samples_leaf),\n",
        "                                  max_features=min(max_features, 0.999),\n",
        "                                  random_state=27)\n",
        "    y_pred = cross_val_predict(rf_trail3, X_train_balanced, y_train_balanced, cv=5)\n",
        "    mse = mean_squared_error(y_train_balanced, y_pred)\n",
        "    linearity = linearity_score(y_train_balanced, y_pred)\n",
        "    score = -mse - linearity\n",
        "    return score"
      ],
      "metadata": {
        "id": "tSnVeUFyC4AN"
      },
      "execution_count": null,
      "outputs": []
    },
    {
      "cell_type": "code",
      "source": [
        "param_bounds = {\n",
        "    'n_estimators': (10, 1000),\n",
        "    'max_depth': (1, 100),\n",
        "    'min_samples_leaf': (1,5),\n",
        "    'max_features': (0.1, 0.999),\n",
        "}\n",
        "optimizer = BayesianOptimization(f=objective, pbounds=param_bounds, random_state=27)\n",
        "optimizer.maximize(init_points=5, n_iter=15)"
      ],
      "metadata": {
        "id": "TXlsH2lpDIQM",
        "colab": {
          "base_uri": "https://localhost:8080/"
        },
        "outputId": "e7a7ceea-6ec8-4ac3-c34b-9e40064d3d72"
      },
      "execution_count": null,
      "outputs": [
        {
          "output_type": "stream",
          "name": "stdout",
          "text": [
            "|   iter    |  target   | max_depth | max_fe... | min_sa... | n_esti... |\n",
            "-------------------------------------------------------------------------\n",
            "| \u001b[0m1        \u001b[0m | \u001b[0m-4.978   \u001b[0m | \u001b[0m43.15    \u001b[0m | \u001b[0m0.8323   \u001b[0m | \u001b[0m3.942    \u001b[0m | \u001b[0m869.3    \u001b[0m |\n",
            "| \u001b[0m2        \u001b[0m | \u001b[0m-6.405   \u001b[0m | \u001b[0m38.95    \u001b[0m | \u001b[0m0.9805   \u001b[0m | \u001b[0m4.573    \u001b[0m | \u001b[0m217.6    \u001b[0m |\n",
            "| \u001b[0m3        \u001b[0m | \u001b[0m-7.506   \u001b[0m | \u001b[0m74.44    \u001b[0m | \u001b[0m0.6962   \u001b[0m | \u001b[0m4.547    \u001b[0m | \u001b[0m859.4    \u001b[0m |\n",
            "| \u001b[95m4        \u001b[0m | \u001b[95m-2.745   \u001b[0m | \u001b[95m75.18    \u001b[0m | \u001b[95m0.8823   \u001b[0m | \u001b[95m1.747    \u001b[0m | \u001b[95m332.3    \u001b[0m |\n",
            "| \u001b[95m5        \u001b[0m | \u001b[95m-2.664   \u001b[0m | \u001b[95m37.92    \u001b[0m | \u001b[95m0.8135   \u001b[0m | \u001b[95m1.604    \u001b[0m | \u001b[95m178.2    \u001b[0m |\n",
            "| \u001b[0m6        \u001b[0m | \u001b[0m-2.858   \u001b[0m | \u001b[0m37.26    \u001b[0m | \u001b[0m0.6526   \u001b[0m | \u001b[0m1.302    \u001b[0m | \u001b[0m179.2    \u001b[0m |\n",
            "| \u001b[0m7        \u001b[0m | \u001b[0m-6.227   \u001b[0m | \u001b[0m44.67    \u001b[0m | \u001b[0m0.999    \u001b[0m | \u001b[0m4.065    \u001b[0m | \u001b[0m157.8    \u001b[0m |\n",
            "| \u001b[0m8        \u001b[0m | \u001b[0m-5.893   \u001b[0m | \u001b[0m48.42    \u001b[0m | \u001b[0m0.4765   \u001b[0m | \u001b[0m2.053    \u001b[0m | \u001b[0m182.4    \u001b[0m |\n",
            "| \u001b[0m9        \u001b[0m | \u001b[0m-8.048   \u001b[0m | \u001b[0m32.08    \u001b[0m | \u001b[0m0.5688   \u001b[0m | \u001b[0m3.064    \u001b[0m | \u001b[0m170.8    \u001b[0m |\n",
            "| \u001b[0m10       \u001b[0m | \u001b[0m-5.834   \u001b[0m | \u001b[0m79.22    \u001b[0m | \u001b[0m0.4139   \u001b[0m | \u001b[0m2.337    \u001b[0m | \u001b[0m334.9    \u001b[0m |\n",
            "| \u001b[0m11       \u001b[0m | \u001b[0m-6.522   \u001b[0m | \u001b[0m73.21    \u001b[0m | \u001b[0m0.9832   \u001b[0m | \u001b[0m4.801    \u001b[0m | \u001b[0m332.7    \u001b[0m |\n",
            "| \u001b[0m12       \u001b[0m | \u001b[0m-4.847   \u001b[0m | \u001b[0m34.08    \u001b[0m | \u001b[0m0.8864   \u001b[0m | \u001b[0m3.45     \u001b[0m | \u001b[0m178.4    \u001b[0m |\n",
            "| \u001b[0m13       \u001b[0m | \u001b[0m-5.244   \u001b[0m | \u001b[0m39.99    \u001b[0m | \u001b[0m0.3589   \u001b[0m | \u001b[0m1.359    \u001b[0m | \u001b[0m177.6    \u001b[0m |\n",
            "| \u001b[0m14       \u001b[0m | \u001b[0m-8.608   \u001b[0m | \u001b[0m35.84    \u001b[0m | \u001b[0m0.2714   \u001b[0m | \u001b[0m2.934    \u001b[0m | \u001b[0m180.4    \u001b[0m |\n",
            "| \u001b[0m15       \u001b[0m | \u001b[0m-12.26   \u001b[0m | \u001b[0m75.55    \u001b[0m | \u001b[0m0.236    \u001b[0m | \u001b[0m3.624    \u001b[0m | \u001b[0m332.5    \u001b[0m |\n",
            "| \u001b[0m16       \u001b[0m | \u001b[0m-2.858   \u001b[0m | \u001b[0m38.64    \u001b[0m | \u001b[0m0.6082   \u001b[0m | \u001b[0m1.114    \u001b[0m | \u001b[0m179.5    \u001b[0m |\n",
            "| \u001b[0m17       \u001b[0m | \u001b[0m-2.743   \u001b[0m | \u001b[0m75.03    \u001b[0m | \u001b[0m0.9113   \u001b[0m | \u001b[0m1.115    \u001b[0m | \u001b[0m333.7    \u001b[0m |\n",
            "| \u001b[0m18       \u001b[0m | \u001b[0m-4.376   \u001b[0m | \u001b[0m38.45    \u001b[0m | \u001b[0m0.6459   \u001b[0m | \u001b[0m2.404    \u001b[0m | \u001b[0m177.2    \u001b[0m |\n",
            "| \u001b[0m19       \u001b[0m | \u001b[0m-5.379   \u001b[0m | \u001b[0m73.39    \u001b[0m | \u001b[0m0.3797   \u001b[0m | \u001b[0m1.906    \u001b[0m | \u001b[0m332.8    \u001b[0m |\n",
            "| \u001b[0m20       \u001b[0m | \u001b[0m-2.681   \u001b[0m | \u001b[0m37.02    \u001b[0m | \u001b[0m0.8412   \u001b[0m | \u001b[0m1.788    \u001b[0m | \u001b[0m176.2    \u001b[0m |\n",
            "=========================================================================\n"
          ]
        }
      ]
    },
    {
      "cell_type": "code",
      "source": [
        "best_params=optimizer.max['params']\n",
        "best_params"
      ],
      "metadata": {
        "id": "zpkSkY9ADe2x",
        "colab": {
          "base_uri": "https://localhost:8080/"
        },
        "outputId": "61a5599c-4c70-45ca-872a-4a799f66061a"
      },
      "execution_count": null,
      "outputs": [
        {
          "output_type": "execute_result",
          "data": {
            "text/plain": [
              "{'max_depth': 37.92080606049196,\n",
              " 'max_features': 0.8135480095502251,\n",
              " 'min_samples_leaf': 1.6042410781923575,\n",
              " 'n_estimators': 178.24327204743167}"
            ]
          },
          "metadata": {},
          "execution_count": 10
        }
      ]
    },
    {
      "cell_type": "code",
      "source": [
        "rf_trail3_bayesian_model = RandomForestRegressor(n_estimators=int(best_params['n_estimators']),\n",
        "                                   max_depth=int(best_params['max_depth']),\n",
        "                                   min_samples_leaf=int(best_params['min_samples_leaf']),\n",
        "                                   max_features=best_params['max_features'],\n",
        "                                   random_state=27)\n",
        "rf_trail3_prediction_train = rf_trail3_bayesian_model.fit(X_train_balanced, y_train_balanced)\n",
        "rf_trail3_prediction_train = rf_trail3_bayesian_model.predict(X_train_balanced)\n",
        "\n",
        "rf_trail3_mae_TRAIN = mean_absolute_error(rf_trail3_prediction_train, y_train_balanced)\n",
        "rf_trail3_mape_TRAIN = mean_absolute_percentage_error(rf_trail3_prediction_train, y_train_balanced)\n",
        "rf_trail3_linearity_TRAIN = r2_score(rf_trail3_prediction_train, y_train_balanced)\n",
        "\n",
        "print('rf_trail3_mae_TRAIN =', rf_trail3_mae_TRAIN)\n",
        "print('rf_trail3_mape_TRAIN =', rf_trail3_mape_TRAIN)\n",
        "print('rf_trail3_linearity_TRAIN =', rf_trail3_linearity_TRAIN)\n",
        "\n",
        "plt.figure(figsize=(10, 6))\n",
        "plt.scatter(y_train_balanced, rf_trail3_prediction_train, color='blue', label='Predicted vs Actual')\n",
        "plt.plot([min(y_train_balanced), max(y_train_balanced)], [min(y_train_balanced), max(y_train_balanced)], color='red', linestyle='--', label='Perfect Prediction Line')\n",
        "plt.title('Prediction vs Actual')\n",
        "plt.xlabel('Actual Values')\n",
        "plt.ylabel('Predicted Values')\n",
        "plt.legend()\n",
        "plt.show()"
      ],
      "metadata": {
        "id": "_c_aVeBiEd4q",
        "colab": {
          "base_uri": "https://localhost:8080/",
          "height": 616
        },
        "outputId": "4c7f3a6c-c163-4421-e1cb-f0077249ff74"
      },
      "execution_count": null,
      "outputs": [
        {
          "output_type": "stream",
          "name": "stdout",
          "text": [
            "rf_trail3_mae_TRAIN = 0.3070108578840342\n",
            "rf_trail3_mape_TRAIN = 0.041502108030549455\n",
            "rf_trail3_linearity_TRAIN = 0.993893545460036\n"
          ]
        },
        {
          "output_type": "display_data",
          "data": {
            "text/plain": [
              "<Figure size 1000x600 with 1 Axes>"
            ],
            "image/png": "[encoded data removed]"
          },
          "metadata": {}
        }
      ]
    },
    {
      "cell_type": "code",
      "source": [
        "rf_trail3_prediction = rf_trail3_bayesian_model.predict (X_val)\n",
        "\n",
        "rf_trail3_mae = mean_absolute_error(rf_trail3_prediction, y_val)\n",
        "rf_trail3_mape = mean_absolute_percentage_error(rf_trail3_prediction, y_val)\n",
        "rf_trail3_linearity = r2_score(rf_trail3_prediction, y_val)\n",
        "\n",
        "#print('rf_trail2_mae/rf_trail3_mae =', rf_trail2_mae, rf_trail3_mae)\n",
        "#print('rf_trail2_mape/rf_trail3_mape =', rf_trail2_mape, rf_trail3_mape)\n",
        "#print('rf_trail2_linearity/rf_trail3_linearity =', rf_trail2_linearity, rf_trail3_linearity)\n",
        "\n",
        "# Plotting\n",
        "plt.figure(figsize=(10, 6))\n",
        "plt.scatter(y_val, rf_trail3_prediction, color='blue', label='Predicted vs Actual')\n",
        "plt.plot([min(y_val), max(y_val)], [min(y_val), max(y_val)], color='red', linestyle='--', label='Perfect Prediction Line')\n",
        "plt.title('Prediction vs Actual')\n",
        "plt.xlabel('Actual Values')\n",
        "plt.ylabel('Predicted Values')\n",
        "plt.legend()\n",
        "plt.show()"
      ],
      "metadata": {
        "id": "Tl_tfJA_FQ5C",
        "colab": {
          "base_uri": "https://localhost:8080/",
          "height": 564
        },
        "outputId": "55b50062-66a6-418a-8f26-938c6f882f33"
      },
      "execution_count": null,
      "outputs": [
        {
          "output_type": "display_data",
          "data": {
            "text/plain": [
              "<Figure size 1000x600 with 1 Axes>"
            ],
            "image/png": "[encoded data removed]"
          },
          "metadata": {}
        }
      ]
    },
    {
      "cell_type": "markdown",
      "source": [
        "Final model saving"
      ],
      "metadata": {
        "id": "ngM8iNziNaLI"
      }
    },
    {
      "cell_type": "code",
      "source": [
        "from google.colab import drive\n",
        "drive.mount('/content/drive')\n",
        "from joblib import dump\n",
        "rf_optimized_modelA_totalCr = rf_trail3_bayesian_model\n",
        "drive_path = '/content/drive/My Drive/MODELLING/rf_optimized_modelA_totalCr.joblib'\n",
        "dump(rf_optimized_modelA_totalCr, drive_path)\n",
        "print(\"Model saved successfully to Google Drive.\")"
      ],
      "metadata": {
        "colab": {
          "base_uri": "https://localhost:8080/"
        },
        "id": "lt3DLviTNbse",
        "outputId": "b6f30acd-a039-4618-ac02-d6b9513f2a87"
      },
      "execution_count": null,
      "outputs": [
        {
          "output_type": "stream",
          "name": "stdout",
          "text": [
            "Drive already mounted at /content/drive; to attempt to forcibly remount, call drive.mount(\"/content/drive\", force_remount=True).\n",
            "Model saved successfully to Google Drive.\n"
          ]
        }
      ]
    }
  ]
}